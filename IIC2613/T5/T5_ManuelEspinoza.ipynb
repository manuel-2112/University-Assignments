{
 "cells": [
  {
   "cell_type": "markdown",
   "id": "24665494-8a64-4ac4-bab3-26651adc6a64",
   "metadata": {
    "tags": []
   },
   "source": [
    "# T5 - IIC2613 | Inteligencia Artificial\n",
    "## Procesamiento de Lenguaje Natural\n",
    "#### Manuel Espinoza Q."
   ]
  },
  {
   "cell_type": "markdown",
   "id": "bc5ec5e5-4448-49dc-87f2-4fdba1ad5f1e",
   "metadata": {
    "tags": []
   },
   "source": [
    "# Clasificación de Emails de Spam usando NLP\n",
    "\n",
    "## Introducción\n",
    "\n",
    "El Procesamiento de Lenguaje Natural es una subdisciplina de la inteligencia artificial que se enfoca en la interacción entre los computadores y las personas a través del lenguaje natural. Una de las tareas más comunes y útiles en NLP es la clasificación de texto, que involucra asignar categorías predefinidas a fragmentos de texto.\n",
    "\n",
    "En este proyecto, se abordará la tarea de **clasificación de emails de spam**. El objetivo es desarrollar un modelo que pueda distinguir automáticamente entre correos electrónicos legítimos y correos electrónicos no deseados (spam). Esta tarea es de gran relevancia y utilidad por varias razones:\n",
    "\n",
    "1. **Seguridad y Privacidad**: Los emails de spam pueden contener enlaces maliciosos, intentos de phishing y otros contenidos dañinos que ponen en riesgo la seguridad y privacidad de los usuarios.\n",
    "2. **Eficiencia**: Un sistema de clasificación de spam eficiente reduce el tiempo que los usuarios necesitan para revisar y eliminar correos electrónicos no deseados, mejorando así la productividad.\n",
    "3. **Protección de Recursos**: Filtrar correos electrónicos de spam ayuda a proteger los recursos de la red y el almacenamiento, evitando el uso innecesario de ancho de banda y espacio en los servidores de correo.\n",
    "4. **Experiencia del Usuario**: Un sistema efectivo de detección de spam mejora la experiencia del usuario al mantener la bandeja de entrada limpia y relevante.\n",
    "\n",
    "<div style=\"text-align: center;\">\n",
    "    <img src=\"https://citizenside.com/wp-content/uploads/2023/07/what-is-an-example-of-spam-email-1689650479.jpg\" alt=\"NLP Spam Classification\" width=\"300\"/>\n",
    "</div>\n",
    "\n",
    "Para llevar a cabo esta tarea, utilizaremos técnicas de NLP para preprocesar el texto de los correos electrónicos y modelos de aprendizaje automático para la clasificación. El dataset que utilizaremos contiene mensajes etiquetados como 'spam' o 'ham', lo que nos permitirá entrenar y evaluar nuestro modelo. A lo largo del proyecto, se explciara cada paso del proceso, desde la carga y limpieza de datos hasta el entrenamiento y evaluación del modelo, proporcionando una comprensión integral de cómo se pueden aplicar técnicas de NLP para resolver problemas del mundo real.\n"
   ]
  },
  {
   "cell_type": "markdown",
   "id": "bfee8f1c-335a-412f-9d30-27c75cfafa60",
   "metadata": {
    "tags": []
   },
   "source": [
    "## Configuración del Entorno y Carga de Datos\n",
    "\n",
    "Primero, me aseguré de tener todas las librerías necesarias instaladas y cargué el dataset de mensajes desde Kaggle.\n"
   ]
  },
  {
   "cell_type": "code",
   "execution_count": 2,
   "id": "2271d811-b468-457f-8890-e434fa11bf09",
   "metadata": {},
   "outputs": [
    {
     "name": "stderr",
     "output_type": "stream",
     "text": [
      "[nltk_data] Downloading package stopwords to\n",
      "[nltk_data]     C:\\Users\\mespi\\AppData\\Roaming\\nltk_data...\n",
      "[nltk_data]   Package stopwords is already up-to-date!\n",
      "[nltk_data] Downloading package punkt to\n",
      "[nltk_data]     C:\\Users\\mespi\\AppData\\Roaming\\nltk_data...\n",
      "[nltk_data]   Package punkt is already up-to-date!\n"
     ]
    },
    {
     "data": {
      "text/plain": [
       "True"
      ]
     },
     "execution_count": 2,
     "metadata": {},
     "output_type": "execute_result"
    }
   ],
   "source": [
    "# Instalar librerías necesarias\n",
    "#!pip install pandas numpy scikit-learn matplotlib seaborn nltk\n",
    "\n",
    "# Librerías\n",
    "import pandas as pd\n",
    "import numpy as np\n",
    "import matplotlib.pyplot as plt\n",
    "import seaborn as sns\n",
    "import nltk\n",
    "from sklearn.model_selection import train_test_split\n",
    "from sklearn.feature_extraction.text import CountVectorizer, TfidfVectorizer\n",
    "from sklearn.naive_bayes import MultinomialNB\n",
    "from sklearn.metrics import classification_report, confusion_matrix, accuracy_score\n",
    "\n",
    "# Descargar recursos de NLTK\n",
    "nltk.download('stopwords')\n",
    "nltk.download('punkt')"
   ]
  },
  {
   "cell_type": "code",
   "execution_count": 3,
   "id": "a598da0e-eaba-4f97-9c6d-05e5e2327e3f",
   "metadata": {},
   "outputs": [],
   "source": [
    "# Cargar el dataset\n",
    "data = pd.read_csv('./SPAM text message 20170820 - Data.csv')"
   ]
  },
  {
   "cell_type": "markdown",
   "id": "c948b172-06b9-4dc0-acc0-f67e95167ad6",
   "metadata": {},
   "source": [
    "## Análisis y Limpieza de Datos\n",
    "\n",
    "Antes de entrenar el modelo, analicé y limpié los datos para asegurarme de que estaban en el formato correcto.\n"
   ]
  },
  {
   "cell_type": "code",
   "execution_count": 23,
   "id": "375fc06f-35e5-42c8-a8ea-5588cfb1d8b3",
   "metadata": {},
   "outputs": [
    {
     "name": "stdout",
     "output_type": "stream",
     "text": [
      "<class 'pandas.core.frame.DataFrame'>\n",
      "RangeIndex: 5572 entries, 0 to 5571\n",
      "Data columns (total 4 columns):\n",
      " #   Column          Non-Null Count  Dtype \n",
      "---  ------          --------------  ----- \n",
      " 0   Category        5572 non-null   object\n",
      " 1   Message         5572 non-null   object\n",
      " 2   Processed_Text  5572 non-null   object\n",
      " 3   Message_Length  5572 non-null   int64 \n",
      "dtypes: int64(1), object(3)\n",
      "memory usage: 174.2+ KB\n"
     ]
    },
    {
     "data": {
      "text/plain": [
       "Category          0\n",
       "Message           0\n",
       "Processed_Text    0\n",
       "Message_Length    0\n",
       "dtype: int64"
      ]
     },
     "execution_count": 23,
     "metadata": {},
     "output_type": "execute_result"
    }
   ],
   "source": [
    "# Mostrar las primeras filas del dataset\n",
    "data.head()\n",
    "\n",
    "# Verificar información general del dataset\n",
    "data.info()\n",
    "\n",
    "# Verificar valores nulos\n",
    "data.isnull().sum()"
   ]
  },
  {
   "cell_type": "code",
   "execution_count": 26,
   "id": "63af8ec7-372b-44c2-988b-df2dd3cca87d",
   "metadata": {},
   "outputs": [
    {
     "name": "stderr",
     "output_type": "stream",
     "text": [
      "c:\\users\\mespi\\appdata\\local\\programs\\python\\python38\\lib\\site-packages\\seaborn\\_decorators.py:36: FutureWarning: Pass the following variable as a keyword arg: x. From version 0.12, the only valid positional argument will be `data`, and passing other arguments without an explicit keyword will result in an error or misinterpretation.\n",
      "  warnings.warn(\n"
     ]
    },
    {
     "data": {
      "image/png": "[encoded data removed]",
      "text/plain": [
       "<Figure size 432x288 with 1 Axes>"
      ]
     },
     "metadata": {
      "needs_background": "light"
     },
     "output_type": "display_data"
    }
   ],
   "source": [
    "# Distribución de clases\n",
    "sns.countplot(data['Category'])\n",
    "plt.title('Distribución de Clases')\n",
    "plt.show()"
   ]
  },
  {
   "cell_type": "markdown",
   "id": "9e47b78d-009f-46d0-88c9-899349614ade",
   "metadata": {},
   "source": [
    "## Preprocesamiento de Datos\n",
    "\n",
    "El preprocesamiento de texto es una parte importante en un proyecto de NLP. Aquí, convertí los textos en minúsculas, eliminé la puntuación y las stopwords.\n"
   ]
  },
  {
   "cell_type": "code",
   "execution_count": 5,
   "id": "93e538c6-a7cf-4810-a317-77d97123898f",
   "metadata": {},
   "outputs": [
    {
     "data": {
      "text/html": [
       "<div>\n",
       "<style scoped>\n",
       "    .dataframe tbody tr th:only-of-type {\n",
       "        vertical-align: middle;\n",
       "    }\n",
       "\n",
       "    .dataframe tbody tr th {\n",
       "        vertical-align: top;\n",
       "    }\n",
       "\n",
       "    .dataframe thead th {\n",
       "        text-align: right;\n",
       "    }\n",
       "</style>\n",
       "<table border=\"1\" class=\"dataframe\">\n",
       "  <thead>\n",
       "    <tr style=\"text-align: right;\">\n",
       "      <th></th>\n",
       "      <th>Category</th>\n",
       "      <th>Message</th>\n",
       "      <th>Processed_Text</th>\n",
       "    </tr>\n",
       "  </thead>\n",
       "  <tbody>\n",
       "    <tr>\n",
       "      <th>0</th>\n",
       "      <td>ham</td>\n",
       "      <td>Go until jurong point, crazy.. Available only ...</td>\n",
       "      <td>go jurong point crazy available bugis n great ...</td>\n",
       "    </tr>\n",
       "    <tr>\n",
       "      <th>1</th>\n",
       "      <td>ham</td>\n",
       "      <td>Ok lar... Joking wif u oni...</td>\n",
       "      <td>ok lar joking wif u oni</td>\n",
       "    </tr>\n",
       "    <tr>\n",
       "      <th>2</th>\n",
       "      <td>spam</td>\n",
       "      <td>Free entry in 2 a wkly comp to win FA Cup fina...</td>\n",
       "      <td>free entry 2 wkly comp win fa cup final tkts 2...</td>\n",
       "    </tr>\n",
       "    <tr>\n",
       "      <th>3</th>\n",
       "      <td>ham</td>\n",
       "      <td>U dun say so early hor... U c already then say...</td>\n",
       "      <td>u dun say early hor u c already say</td>\n",
       "    </tr>\n",
       "    <tr>\n",
       "      <th>4</th>\n",
       "      <td>ham</td>\n",
       "      <td>Nah I don't think he goes to usf, he lives aro...</td>\n",
       "      <td>nah dont think goes usf lives around though</td>\n",
       "    </tr>\n",
       "  </tbody>\n",
       "</table>\n",
       "</div>"
      ],
      "text/plain": [
       "  Category                                            Message  \\\n",
       "0      ham  Go until jurong point, crazy.. Available only ...   \n",
       "1      ham                      Ok lar... Joking wif u oni...   \n",
       "2     spam  Free entry in 2 a wkly comp to win FA Cup fina...   \n",
       "3      ham  U dun say so early hor... U c already then say...   \n",
       "4      ham  Nah I don't think he goes to usf, he lives aro...   \n",
       "\n",
       "                                      Processed_Text  \n",
       "0  go jurong point crazy available bugis n great ...  \n",
       "1                            ok lar joking wif u oni  \n",
       "2  free entry 2 wkly comp win fa cup final tkts 2...  \n",
       "3                u dun say early hor u c already say  \n",
       "4        nah dont think goes usf lives around though  "
      ]
     },
     "execution_count": 5,
     "metadata": {},
     "output_type": "execute_result"
    }
   ],
   "source": [
    "from nltk.corpus import stopwords\n",
    "from nltk.tokenize import word_tokenize\n",
    "import string\n",
    "\n",
    "# Definir función de limpieza\n",
    "def preprocess_text(text):\n",
    "    # Convertir a minúsculas\n",
    "    text = text.lower()\n",
    "    # Eliminar puntuación\n",
    "    text = text.translate(str.maketrans('', '', string.punctuation))\n",
    "    # Tokenización\n",
    "    tokens = word_tokenize(text)\n",
    "    # Eliminar stopwords\n",
    "    tokens = [word for word in tokens if word not in stopwords.words('english')]\n",
    "    return ' '.join(tokens)\n",
    "\n",
    "# Aplicar preprocesamiento a los datos\n",
    "data['Processed_Text'] = data['Message'].apply(preprocess_text)\n",
    "\n",
    "# Mostrar las primeras filas después del preprocesamiento\n",
    "data.head()"
   ]
  },
  {
   "cell_type": "markdown",
   "id": "7f451377-94e3-494e-a54c-28bad00f38fc",
   "metadata": {
    "tags": []
   },
   "source": [
    "## Análisis de Características\n",
    "\n",
    "Realicé un análisis para entender mejor las características de los datos, como la longitud de los mensajes."
   ]
  },
  {
   "cell_type": "code",
   "execution_count": 9,
   "id": "2a82fea2-4cc6-4be6-b11a-6cc1e52154fe",
   "metadata": {},
   "outputs": [
    {
     "data": {
      "image/png": "[encoded data removed]",
      "text/plain": [
       "<Figure size 864x432 with 1 Axes>"
      ]
     },
     "metadata": {
      "needs_background": "light"
     },
     "output_type": "display_data"
    }
   ],
   "source": [
    "# Longitud de los mensajes\n",
    "data['Message_Length'] = data['Message'].apply(len)\n",
    "\n",
    "# Distribución de la longitud de los mensajes\n",
    "plt.figure(figsize=(12, 6))\n",
    "sns.histplot(data[data['Category'] == 'ham']['Message_Length'], bins=50, color='blue', label='Ham')\n",
    "sns.histplot(data[data['Category'] == 'spam']['Message_Length'], bins=50, color='red', label='Spam')\n",
    "plt.legend()\n",
    "plt.title('Distribución de la Longitud de los Mensajes')\n",
    "plt.show()"
   ]
  },
  {
   "cell_type": "markdown",
   "id": "41feedb3-febd-45fa-ae79-4f31b767237d",
   "metadata": {
    "tags": []
   },
   "source": [
    "## Análisis de Frecuencia de Palabras\n",
    "\n",
    "Examinar las palabras más comunes en los correos electrónicos puede proporcionar información sobre las características distintivas de los correos de spam y ham."
   ]
  },
  {
   "cell_type": "code",
   "execution_count": 21,
   "id": "43a21150-f0b6-4629-a766-6d356ef24d04",
   "metadata": {},
   "outputs": [
    {
     "data": {
      "image/png": "[encoded data removed]",
      "text/plain": [
       "<Figure size 864x432 with 1 Axes>"
      ]
     },
     "metadata": {
      "needs_background": "light"
     },
     "output_type": "display_data"
    },
    {
     "data": {
      "image/png": "[encoded data removed]",
      "text/plain": [
       "<Figure size 864x432 with 1 Axes>"
      ]
     },
     "metadata": {
      "needs_background": "light"
     },
     "output_type": "display_data"
    }
   ],
   "source": [
    "from collections import Counter\n",
    "import seaborn as sns\n",
    "\n",
    "# Obtener todas las palabras en los correos de spam\n",
    "spam_words = ' '.join(list(data[data['Category'] == 'spam']['Processed_Text']))\n",
    "spam_words = spam_words.split()\n",
    "\n",
    "# Obtener todas las palabras en los correos ham\n",
    "ham_words = ' '.join(list(data[data['Category'] == 'ham']['Processed_Text']))\n",
    "ham_words = ham_words.split()\n",
    "\n",
    "# Contar las palabras más comunes\n",
    "spam_word_counts = Counter(spam_words)\n",
    "ham_word_counts = Counter(ham_words)\n",
    "\n",
    "# Seleccionar las 20 palabras más comunes\n",
    "spam_common_words = spam_word_counts.most_common(20)\n",
    "ham_common_words = ham_word_counts.most_common(20)\n",
    "\n",
    "# Convertir a DataFrame para mejor visualización\n",
    "spam_df = pd.DataFrame(spam_common_words, columns=['Palabra', 'Frecuencia'])\n",
    "ham_df = pd.DataFrame(ham_common_words, columns=['Palabra', 'Frecuencia'])\n",
    "\n",
    "# Gráfica de barras para palabras más comunes en correos de spam\n",
    "plt.figure(figsize=(12, 6))\n",
    "sns.barplot(x='Frecuencia', y='Palabra', data=spam_df, palette='Reds_r')\n",
    "plt.title('Palabras Más Comunes en Correos de Spam')\n",
    "plt.show()\n",
    "\n",
    "# Gráfica de barras para palabras más comunes en correos ham\n",
    "plt.figure(figsize=(12, 6))\n",
    "sns.barplot(x='Frecuencia', y='Palabra', data=ham_df, palette='Blues_r')\n",
    "plt.title('Palabras Más Comunes en Correos Ham')\n",
    "plt.show()"
   ]
  },
  {
   "cell_type": "markdown",
   "id": "5903d030-f267-4ac5-9afb-5e2f80dde372",
   "metadata": {},
   "source": [
    "## Vectorización\n",
    "\n",
    "Convertí los textos preprocesados en vectores numéricos utilizando TF-IDF, lo cual es esencial para que los modelos de aprendizaje automático puedan entender los datos de texto.\n",
    "\n"
   ]
  },
  {
   "cell_type": "code",
   "execution_count": 6,
   "id": "df472fdb-ee85-470d-a8bc-2d4ea0c17bfa",
   "metadata": {},
   "outputs": [],
   "source": [
    "# Dividir el dataset en conjunto de train y test\n",
    "X_train, X_test, y_train, y_test = train_test_split(data['Processed_Text'], data['Category'], test_size=0.2, random_state=42)\n",
    "\n",
    "# Vectorización TF-IDF\n",
    "tfidf_vectorizer = TfidfVectorizer()\n",
    "X_train_tfidf = tfidf_vectorizer.fit_transform(X_train)\n",
    "X_test_tfidf = tfidf_vectorizer.transform(X_test)"
   ]
  },
  {
   "cell_type": "markdown",
   "id": "3aa15bca-b843-4bb0-b65b-0528cd68e055",
   "metadata": {},
   "source": [
    "## Entrenamiento del Modelo\n",
    "\n",
    "Entrené un modelo Naive Bayes, que es comúnmente utilizado para problemas de clasificación de texto debido a su simplicidad y eficacia."
   ]
  },
  {
   "cell_type": "code",
   "execution_count": 7,
   "id": "9b1b133c-b899-418d-a81e-5ca0e4280298",
   "metadata": {},
   "outputs": [
    {
     "name": "stdout",
     "output_type": "stream",
     "text": [
      "Accuracy: 0.968609865470852\n",
      "Confusion Matrix:\n",
      " [[966   0]\n",
      " [ 35 114]]\n",
      "Classification Report:\n",
      "               precision    recall  f1-score   support\n",
      "\n",
      "         ham       0.97      1.00      0.98       966\n",
      "        spam       1.00      0.77      0.87       149\n",
      "\n",
      "    accuracy                           0.97      1115\n",
      "   macro avg       0.98      0.88      0.92      1115\n",
      "weighted avg       0.97      0.97      0.97      1115\n",
      "\n"
     ]
    }
   ],
   "source": [
    "# Entrenar el modelo\n",
    "model = MultinomialNB()\n",
    "model.fit(X_train_tfidf, y_train)\n",
    "\n",
    "# Hacer predicciones\n",
    "y_pred = model.predict(X_test_tfidf)\n",
    "\n",
    "# Evaluar el modelo\n",
    "print(\"Accuracy:\", accuracy_score(y_test, y_pred))\n",
    "print(\"Confusion Matrix:\\n\", confusion_matrix(y_test, y_pred))\n",
    "print(\"Classification Report:\\n\", classification_report(y_test, y_pred))"
   ]
  },
  {
   "cell_type": "markdown",
   "id": "037c23e1-6ccf-4c7f-8f5f-6746d3238b40",
   "metadata": {},
   "source": [
    "## Análisis de Resultados y Conclusiones\n",
    "\n",
    "El modelo Naive Bayes mostró una precisión del 96.86% en la clasificación de emails de spam. A continuación se presentan la matriz de confusión y el reporte de clasificación:\n",
    "\n",
    "### Matriz de Confusión\n",
    "\n",
    "La matriz de confusión se presenta a continuación:\n",
    "\n",
    "- **True Positives (TP):** 966 (Correos legítimos correctamente clasificados como 'ham')\n",
    "- **True Negatives (TN):** 114 (Correos de spam correctamente clasificados como 'spam')\n",
    "- **False Positives (FP):** 0 (Correos legítimos incorrectamente clasificados como 'spam')\n",
    "- **False Negatives (FN):** 35 (Correos de spam incorrectamente clasificados como 'ham')\n",
    "\n",
    "### Reporte de Clasificación\n",
    "\n",
    "El reporte de clasificación muestra las métricas de precisión, recall y f1-score para cada clase ('ham' y 'spam'):\n",
    "\n",
    "- **Precisión:** La precisión para la clase 'ham' es del 97%, lo que significa que el 97% de los correos clasificados como 'ham' eran realmente legítimos. Para la clase 'spam', la precisión es del 100%, lo que indica que todos los correos clasificados como 'spam' eran realmente spam.\n",
    "- **Recall:** El recall para la clase 'ham' es del 100%, indicando que el modelo identificó correctamente todos los correos legítimos. Sin embargo, para la clase 'spam', el recall es del 77%, lo que significa que el modelo identificó correctamente el 77% de los correos de spam.\n",
    "- **F1-Score:** El f1-score, que es una métrica que combina precisión y recall, es del 98% para 'ham' y del 87% para 'spam'. Esto indica un buen balance entre precisión y recall para la clase 'ham', pero hay margen de mejora para la clase 'spam'.\n",
    "\n",
    "### Conclusiones\n",
    "\n",
    "El modelo Naive Bayes mostró un desempeño sólido en la clasificación de emails de spam, con una precisión general del 96.86%. Sin embargo, hay algunas áreas de mejora:\n",
    "\n",
    "- **Recall para la clase 'spam':** El modelo tiene un recall más bajo para la clase 'spam' (77%), lo que significa que algunos correos de spam no están siendo identificados correctamente. Esto podría mejorarse ajustando los hiperparámetros del modelo o utilizando técnicas de balanceo de clases.\n",
    "- **Ajuste de Hiperparámetros:** Probar diferentes valores de alfa para el modelo Naive Bayes podría ayudar a mejorar su desempeño.\n",
    "- **Enriquecimiento del Dataset:** Incluir más datos de entrenamiento, especialmente ejemplos de spam, podría mejorar la capacidad del modelo para generalizar y detectar correos de spam.\n",
    "- **Uso de Técnicas Avanzadas:** Implementar modelos más avanzados como SVM o redes neuronales y compararlos con el modelo Naive Bayes podría proporcionar mejores resultados."
   ]
  },
  {
   "cell_type": "markdown",
   "id": "a626b303-f11f-4e54-839c-2603c4bc18ca",
   "metadata": {},
   "source": [
    "### SVC"
   ]
  },
  {
   "cell_type": "code",
   "execution_count": 16,
   "id": "12dce17c-2423-4c08-ac14-9ff8ecfd3e00",
   "metadata": {},
   "outputs": [],
   "source": [
    "# Importar librerías adicionales necesarias\n",
    "from sklearn.svm import SVC"
   ]
  },
  {
   "cell_type": "code",
   "execution_count": 17,
   "id": "b16cc897-da8a-4631-845d-5676190bec03",
   "metadata": {},
   "outputs": [
    {
     "name": "stdout",
     "output_type": "stream",
     "text": [
      "Accuracy: 0.989237668161435\n",
      "Confusion Matrix:\n",
      " [[965   1]\n",
      " [ 11 138]]\n",
      "Classification Report:\n",
      "               precision    recall  f1-score   support\n",
      "\n",
      "         ham       0.99      1.00      0.99       966\n",
      "        spam       0.99      0.93      0.96       149\n",
      "\n",
      "    accuracy                           0.99      1115\n",
      "   macro avg       0.99      0.96      0.98      1115\n",
      "weighted avg       0.99      0.99      0.99      1115\n",
      "\n"
     ]
    }
   ],
   "source": [
    "# Entrenar el modelo SVM\n",
    "svm_model = SVC(kernel='linear')\n",
    "svm_model.fit(X_train_tfidf, y_train)\n",
    "\n",
    "# Hacer predicciones\n",
    "svm_pred = svm_model.predict(X_test_tfidf)\n",
    "\n",
    "# Evaluar el modelo\n",
    "print(\"Accuracy:\", accuracy_score(y_test, svm_pred))\n",
    "print(\"Confusion Matrix:\\n\", confusion_matrix(y_test, svm_pred))\n",
    "print(\"Classification Report:\\n\", classification_report(y_test, svm_pred))"
   ]
  },
  {
   "cell_type": "markdown",
   "id": "e0be5eda-1439-40ca-b772-230096173346",
   "metadata": {},
   "source": [
    "## Análisis de Resultados y Conclusiones\n",
    "\n",
    "El modelo SVM mostró una precisión del 98.92% en la clasificación de emails de spam. A continuación se presentan la matriz de confusión y el reporte de clasificación:\n",
    "\n",
    "### Matriz de Confusión\n",
    "\n",
    "La matriz de confusión se presenta a continuación:\n",
    "\n",
    "\n",
    "- **True Positives (TP):** 965 (Correos legítimos correctamente clasificados como 'ham')\n",
    "- **True Negatives (TN):** 138 (Correos de spam correctamente clasificados como 'spam')\n",
    "- **False Positives (FP):** 1 (Correos legítimos incorrectamente clasificados como 'spam')\n",
    "- **False Negatives (FN):** 11 (Correos de spam incorrectamente clasificados como 'ham')\n",
    "\n",
    "### Reporte de Clasificación\n",
    "\n",
    "El reporte de clasificación muestra las métricas de precisión, recall y f1-score para cada clase ('ham' y 'spam'):\n",
    "\n",
    "- **Precisión:** La precisión para la clase 'ham' es del 99%, lo que significa que el 99% de los correos clasificados como 'ham' eran realmente legítimos. Para la clase 'spam', la precisión también es del 99%, indicando que el modelo es muy preciso en identificar correos de spam.\n",
    "- **Recall:** El recall para la clase 'ham' es del 100%, lo que indica que el modelo identificó correctamente todos los correos legítimos excepto uno. Para la clase 'spam', el recall es del 93%, lo que significa que el modelo identificó correctamente el 93% de los correos de spam.\n",
    "- **F1-Score:** El f1-score, que es una métrica que combina precisión y recall, es del 99% para 'ham' y del 96% para 'spam'. Esto indica un excelente balance entre precisión y recall para ambas clases, con un desempeño ligeramente menor en la identificación de correos de spam en comparación con los legítimos.\n",
    "\n",
    "### Conclusiones\n",
    "\n",
    "El modelo SVM mostró un desempeño superior en la clasificación de emails de spam en comparación con el modelo Naive Bayes, con una precisión general del 98.92%. Las principales observaciones son:\n",
    "\n",
    "- **Ventajas del SVM:**\n",
    "  - El SVM puede manejar mejor los datos en espacios de alta dimensión, lo que se traduce en una mayor precisión y un f1-score más alto para ambas clases.\n",
    "  - La capacidad del SVM para maximizar el margen de separación entre las clases permite una mejor generalización en problemas complejos como la clasificación de texto.\n",
    "\n",
    "- **Desventajas del SVM:**\n",
    "  - El entrenamiento del modelo SVM puede ser más lento y consumir más recursos computacionales en comparación con Naive Bayes.\n",
    "  - Aunque el desempeño es excelente, el recall del 93% para la clase 'spam' indica que algunos correos de spam aún no están siendo identificados correctamente.\n",
    "\n",
    "En resumen, el modelo SVM proporcionó un rendimiento notable en la tarea de clasificación de emails de spam, destacándose como una opción robusta y eficaz para este tipo de problemas."
   ]
  },
  {
   "cell_type": "markdown",
   "id": "5e582f45-7087-42af-8807-6fd997de6015",
   "metadata": {},
   "source": [
    "### Observaciones finales\n",
    "\n",
    "1. **Desbalance de Clases:**\n",
    "   - La clase 'ham' tiene una cantidad significativamente mayor de ejemplos en comparación con la clase 'spam'.\n",
    "   - Específicamente, hay aproximadamente cinco veces más ejemplos de 'ham' que de 'spam'.\n",
    "\n",
    "2. **Implicaciones del Desbalance:**\n",
    "   - **Modelos Sesgados:** Los algoritmos de aprendizaje automático pueden volverse sesgados hacia la clase mayoritaria ('ham'), ya que encuentran más ejemplos de esta clase durante el entrenamiento.\n",
    "   - **Precisión Engañosa:** Una alta precisión global del modelo puede ser engañosa, ya que el modelo puede estar clasificando correctamente los correos 'ham' pero fallando en identificar correctamente los correos 'spam'.\n",
    "   - **Métricas de Evaluación:** Es crucial utilizar métricas adicionales como el recall, precisión y f1-score, especialmente para la clase minoritaria ('spam'), para obtener una evaluación completa del desempeño del modelo.\n",
    "\n",
    "### Soluciones Potenciales a futuro\n",
    "\n",
    "Para mitigar el impacto del desbalance de clases, se pueden considerar las siguientes técnicas:\n",
    "\n",
    "1. **Recolección de Más Datos de la Clase Minoritaria:** Aumentar el número de ejemplos de correos 'spam' en el dataset.\n",
    "2. **Técnicas de Re-muestreo:**\n",
    "   - **Submuestreo (Under-sampling):** Reducir el número de ejemplos de la clase mayoritaria ('ham') para equilibrar el dataset.\n",
    "   - **Sobremuestreo (Over-sampling):** Aumentar el número de ejemplos de la clase minoritaria ('spam') mediante técnicas como el duplicado de datos o el uso de métodos como SMOTE (Synthetic Minority Over-sampling Technique).\n",
    "3. **Asignación de Pesos:** Modificar el algoritmo de aprendizaje para que asigne más peso a la clase minoritaria durante el entrenamiento.\n",
    "4. **Generación de Datos Sintéticos:** Crear datos sintéticos adicionales para la clase minoritaria utilizando técnicas avanzadas como GANs (Generative Adversarial Networks).\n"
   ]
  }
 ],
 "metadata": {
  "kernelspec": {
   "display_name": "Python 3 (ipykernel)",
   "language": "python",
   "name": "python3"
  },
  "language_info": {
   "codemirror_mode": {
    "name": "ipython",
    "version": 3
   },
   "file_extension": ".py",
   "mimetype": "text/x-python",
   "name": "python",
   "nbconvert_exporter": "python",
   "pygments_lexer": "ipython3",
   "version": "3.8.10"
  }
 },
 "nbformat": 4,
 "nbformat_minor": 5
}
